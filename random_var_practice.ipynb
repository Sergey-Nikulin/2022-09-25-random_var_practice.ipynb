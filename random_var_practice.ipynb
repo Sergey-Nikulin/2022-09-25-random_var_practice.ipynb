{
 "cells": [
  {
   "cell_type": "code",
   "execution_count": 2,
   "metadata": {},
   "outputs": [],
   "source": [
    "import numpy as np"
   ]
  },
  {
   "cell_type": "markdown",
   "metadata": {},
   "source": [
    "### Домашняя работа"
   ]
  },
  {
   "cell_type": "code",
   "execution_count": 103,
   "metadata": {},
   "outputs": [
    {
     "name": "stdout",
     "output_type": "stream",
     "text": [
      "Кол-во попыток: 10000 Кол-во выигрышных попыток: 69\n",
      "Выигрыш: 3429 руб. Вероятность выигрыша:0.3429\n",
      "Проигрыш: 9931 руб. Вероятность проигрыша:0.6571\n"
     ]
    }
   ],
   "source": [
    "#np.random.seed(None)\n",
    "trials = 10000    # Количество попыток\n",
    "successes = 0     # Выигрыш\n",
    "looser = 0        # Проигрыш\n",
    "\n",
    "for i in range(trials):\n",
    "    random_score = np.random.randint(0, 1000)    # Случайный номер\n",
    "    \n",
    "    if random_score == 777:\n",
    "        successes += 200\n",
    "    elif random_score == 999:\n",
    "        successes += 100\n",
    "    elif random_score == 555:\n",
    "        successes += 50\n",
    "    elif random_score == 333:\n",
    "        successes += 15\n",
    "    elif random_score == 111:\n",
    "        successes += 10\n",
    "    elif random_score == 777%100:\n",
    "        successes += 5\n",
    "    elif random_score == 777%10:\n",
    "        successes += 3       \n",
    "    elif random_score == 700%100:\n",
    "        successes += 2\n",
    "    elif random_score == 700%10:\n",
    "        successes += 1\n",
    "    else:\n",
    "        looser += 1\n",
    "        \n",
    "        \n",
    "p_monte_carlo = successes / trials    # Вероятность из моделирования\n",
    "\n",
    "\n",
    "#print(successes, trials, p_monte_carlo)\n",
    "print(f'Кол-во попыток: {trials} Кол-во выигрышных попыток: {trials - looser}')\n",
    "print(f'Выигрыш: {successes} руб. Вероятность выигрыша:{p_monte_carlo}')\n",
    "print(f'Проигрыш: {looser} руб. Вероятность проигрыша:{1 - p_monte_carlo}')\n",
    "# print(random_score)"
   ]
  },
  {
   "cell_type": "code",
   "execution_count": 68,
   "metadata": {},
   "outputs": [],
   "source": [
    "# random_score = np.random.randint(0, 1000, 1000)\n",
    "# random_score"
   ]
  },
  {
   "cell_type": "code",
   "execution_count": null,
   "metadata": {},
   "outputs": [],
   "source": []
  },
  {
   "cell_type": "code",
   "execution_count": null,
   "metadata": {},
   "outputs": [],
   "source": []
  }
 ],
 "metadata": {
  "kernelspec": {
   "display_name": "Python 3 (ipykernel)",
   "language": "python",
   "name": "python3"
  },
  "language_info": {
   "codemirror_mode": {
    "name": "ipython",
    "version": 3
   },
   "file_extension": ".py",
   "mimetype": "text/x-python",
   "name": "python",
   "nbconvert_exporter": "python",
   "pygments_lexer": "ipython3",
   "version": "3.9.12"
  }
 },
 "nbformat": 4,
 "nbformat_minor": 4
}
